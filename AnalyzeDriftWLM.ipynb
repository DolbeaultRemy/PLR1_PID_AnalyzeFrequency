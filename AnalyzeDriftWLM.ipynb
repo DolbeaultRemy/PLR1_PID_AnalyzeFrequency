{
 "cells": [
  {
   "cell_type": "code",
   "execution_count": 1,
   "id": "e0933c21",
   "metadata": {},
   "outputs": [],
   "source": [
    "import numpy as np\n",
    "import matplotlib.pyplot as plt"
   ]
  },
  {
   "cell_type": "code",
   "execution_count": null,
   "id": "fc8bf0a1",
   "metadata": {},
   "outputs": [],
   "source": [
    "\"\"\" Read the data and return it as an array (n, m) where n is the nbr of channels (time, wavelength(s), temperature...) \n",
    "and m the nbr of datapoints from a python readout of the WLM. Check that each mesure has the amount of channel fixed by \n",
    "the first line and that there is no reset of the time (else compensate for it) \"\"\"\n",
    "def ReadDataPythonReadOut(path_name):\n",
    "    with open(path_name, 'r') as file:\n",
    "        Data = file.read()\n",
    "\n",
    "    Data = Data.split(\"\\n\")\n",
    "\n",
    "    # Initialize\n",
    "    res = np.zeros((len(Data[0].split(\" \")), len(Data)))\n",
    "    try:\n",
    "        res[:, 0] = np.array(Data[0].split(\" \"), dtype=float)    \n",
    "    except: # If error in reading (not everything is measured), return nothing\n",
    "        print(\"Error initialization\")\n",
    "        return res\n",
    "    \n",
    "    time_offset = 0 # If time reinitialized, keep time increasing\n",
    "\n",
    "    # Import the data line by line\n",
    "    for i in range(1, len(Data)):\n",
    "        try:\n",
    "            res[:, i] = np.array(Data[i].split(\" \"), dtype=float)\n",
    "\n",
    "            # Fix jumping time\n",
    "            res[0, i] = res[0, i] + time_offset\n",
    "            if res[0, i] < res[0, i-1]: # Time is not increasing\n",
    "                time_offset = res[0, i-1] + np.mean(res[0, 1:i]-res[0, :i-1]) # Time reset -> offset = previous time + mean DeltaT\n",
    "                res[0, i] = time_offset\n",
    "                print(\"Time problem line \"+str(i))\n",
    "\n",
    "        except: # If error in reading (not everything is measured), put -1 for the time\n",
    "            print(\"Error line \"+str(i))\n",
    "            res[0, i] = -1\n",
    "    return res"
   ]
  }
 ],
 "metadata": {
  "kernelspec": {
   "display_name": ".venv (3.13.7)",
   "language": "python",
   "name": "python3"
  },
  "language_info": {
   "codemirror_mode": {
    "name": "ipython",
    "version": 3
   },
   "file_extension": ".py",
   "mimetype": "text/x-python",
   "name": "python",
   "nbconvert_exporter": "python",
   "pygments_lexer": "ipython3",
   "version": "3.13.7"
  }
 },
 "nbformat": 4,
 "nbformat_minor": 5
}
